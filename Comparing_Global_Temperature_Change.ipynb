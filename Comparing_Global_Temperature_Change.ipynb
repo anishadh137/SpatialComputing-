{
  "nbformat": 4,
  "nbformat_minor": 0,
  "metadata": {
    "colab": {
      "name": "Comparing Global Temperature Change.ipynb",
      "provenance": [],
      "mount_file_id": "1fRi3oAwK8DSNofK7F5ELd8vaoXCg-Qcn",
      "authorship_tag": "ABX9TyPoGur9x5z21l0FPBjlfasn",
      "include_colab_link": true
    },
    "kernelspec": {
      "name": "python3",
      "display_name": "Python 3"
    },
    "language_info": {
      "name": "python"
    }
  },
  "cells": [
    {
      "cell_type": "markdown",
      "metadata": {
        "id": "view-in-github",
        "colab_type": "text"
      },
      "source": [
        "<a href=\"https://colab.research.google.com/github/anishadh137/SpatialComputing-/blob/main/Comparing_Global_Temperature_Change.ipynb\" target=\"_parent\"><img src=\"https://colab.research.google.com/assets/colab-badge.svg\" alt=\"Open In Colab\"/></a>"
      ]
    },
    {
      "cell_type": "code",
      "metadata": {
        "colab": {
          "base_uri": "https://localhost:8080/"
        },
        "id": "sb8iixuY9Pni",
        "outputId": "6d867356-7733-41dd-d11b-1a782ed3eee3"
      },
      "source": [
        "!pip install cartopy\n",
        "import cartopy"
      ],
      "execution_count": null,
      "outputs": [
        {
          "output_type": "stream",
          "name": "stdout",
          "text": [
            "Collecting cartopy\n",
            "  Downloading Cartopy-0.19.0.post1.tar.gz (12.1 MB)\n",
            "\u001b[K     |████████████████████████████████| 12.1 MB 147 kB/s \n",
            "\u001b[?25h  Installing build dependencies ... \u001b[?25l\u001b[?25hdone\n",
            "  Getting requirements to build wheel ... \u001b[?25l\u001b[?25hdone\n",
            "    Preparing wheel metadata ... \u001b[?25l\u001b[?25hdone\n",
            "Requirement already satisfied: numpy>=1.13.3 in /usr/local/lib/python3.7/dist-packages (from cartopy) (1.19.5)\n",
            "Collecting pyshp>=2\n",
            "  Downloading pyshp-2.1.3.tar.gz (219 kB)\n",
            "\u001b[K     |████████████████████████████████| 219 kB 53.4 MB/s \n",
            "\u001b[?25hRequirement already satisfied: shapely>=1.5.6 in /usr/local/lib/python3.7/dist-packages (from cartopy) (1.7.1)\n",
            "Building wheels for collected packages: cartopy, pyshp\n",
            "  Building wheel for cartopy (PEP 517) ... \u001b[?25l\u001b[?25hdone\n",
            "  Created wheel for cartopy: filename=Cartopy-0.19.0.post1-cp37-cp37m-linux_x86_64.whl size=12516260 sha256=1ac7a8eb73556508031807f7fef916a7a29a83f0151cab0d2b5276547da09963\n",
            "  Stored in directory: /root/.cache/pip/wheels/98/01/f7/bd10aeb96fe4b518cde5f7c4f5e12c7202f85b7353a5017847\n",
            "  Building wheel for pyshp (setup.py) ... \u001b[?25l\u001b[?25hdone\n",
            "  Created wheel for pyshp: filename=pyshp-2.1.3-py3-none-any.whl size=37325 sha256=4ae332f5742bf97cc8ada182ad52adb7a648e0b94e8c040329b2f62b56bca32d\n",
            "  Stored in directory: /root/.cache/pip/wheels/43/f8/87/53c8cd41545ba20e536ea29a8fcb5431b5f477ca50d5dffbbe\n",
            "Successfully built cartopy pyshp\n",
            "Installing collected packages: pyshp, cartopy\n",
            "Successfully installed cartopy-0.19.0.post1 pyshp-2.1.3\n"
          ]
        }
      ]
    },
    {
      "cell_type": "code",
      "metadata": {
        "id": "K_HBJl5A841U"
      },
      "source": [
        "import xarray as xr\n",
        "import matplotlib.pyplot as plt\n",
        "import cartopy.crs as ccrs\n",
        "import numpy as np\n",
        "from matplotlib import cm\n",
        "from scipy import stats\n",
        "import pandas as pd"
      ],
      "execution_count": null,
      "outputs": []
    },
    {
      "cell_type": "markdown",
      "metadata": {
        "id": "MqXv4pA7D57D"
      },
      "source": [
        ""
      ]
    },
    {
      "cell_type": "code",
      "metadata": {
        "id": "7G5dFXXP9ltx"
      },
      "source": [
        "temp18 = xr.open_dataset(\"/content/drive/MyDrive/Semester_Fall 2019/GEOG473-673/Python/Final project/Dataset/tmax.2018.nc\")\n",
        "temp18\n",
        "\n",
        "temp18.tmax.values\n",
        "\n",
        "#averaging the values\n",
        "temp18_avg = temp18.tmax.mean(dim='time')\n",
        "\n",
        "temp18_avg.min()\n",
        "\n",
        "temp_cmap = cm.get_cmap('jet')\n",
        "\n",
        "fig = plt.figure(figsize = (16,10))\n",
        "ax = plt.axes(projection=ccrs.PlateCarree())\n",
        "ax.coastlines()\n",
        "temp18_avg.plot(ax=ax,  \n",
        "                cbar_kwargs={'shrink':0.4,'label':'Degrees Celcius'})\n",
        "\n",
        "plt.xticks(np.arange(-180,180, step=50))\n",
        "plt.yticks(np.arange(-90,91, step=30))\n",
        "#plt.yticks(np.arange(np.min(temp18['lat'].values), np.max(temp18['lat'].values), 30))\n",
        "plt.xlabel(\"Longitude\")\n",
        "plt.ylabel(\"Latitude\")\n",
        "plt.title('Difference between 2018 and 1979 Average Maximum Temperature')\n",
        "plt.savefig(\"/content/drive/MyDrive/Semester_Fall 2019/GEOG473-673/Python/Final project/Diff197920181_2.png\")\n",
        "\n",
        "\n"
      ],
      "execution_count": null,
      "outputs": []
    },
    {
      "cell_type": "code",
      "metadata": {
        "id": "NqnSNz4ZEu4r"
      },
      "source": [
        "## 5. Select location (anywhere on the globe). Plot 2018 average maximum temperature data for the region \n",
        "# your selected location is in. (for example, if you choose Newark, DE, plot the average maximum temperature \n",
        "#for 2018 over the Mid-Atlantic.\n",
        "\n",
        "\n",
        "# selecting Kathmandu, Nepal with lat lon values of 27.7172Â° N, 85.3240Â° E\n",
        "fig=plt.figure(figsize=(12,8))\n",
        "temp18.tmax.sel(lat=27.7,lon=85.3, method='nearest').plot()\n",
        "plt.title(\"2018 Average Maximum Temperature of Kathmandu (lat=27.75, lon=85.25)\")\n",
        "plt.savefig(\"Downloads/Ktmtimeseries2018.png\")\n",
        "\n"
      ],
      "execution_count": null,
      "outputs": []
    },
    {
      "cell_type": "code",
      "metadata": {
        "id": "2wrpMJROE0wN"
      },
      "source": [
        "# selecting Kathmandu lat lon from data set\n",
        "latk = temp18.tmax.sel(lat=27.7, method='nearest')\n",
        "lonk = temp18.tmax.sel(lon=85.3, method='nearest')\n",
        "\n",
        "\n",
        "# plotting it over the region of the Indian Subcontinent \n",
        "\n",
        "fig = plt.figure(figsize = (16,10))\n",
        "ax = plt.axes(projection=ccrs.PlateCarree())\n",
        "ax.set_extent([68., 97., 8., 37.], ccrs.PlateCarree())\n",
        "ax.coastlines(linewidth=2)\n",
        "temp18_avg.plot(ax=ax,  \n",
        "                cbar_kwargs={'shrink':0.9,'label':'Degrees Celcius'})\n",
        "plt.plot([lonk.lon], [latk.lat],\n",
        "         color='blue', linewidth=2, marker='o',\n",
        "         transform=ccrs.Geodetic(),\n",
        "         )\n",
        "\n",
        "plt.xticks(np.arange(68,97, step=5))\n",
        "plt.yticks(np.arange(8,37, step=5))\n",
        "plt.xlabel(\"Longitude\")\n",
        "plt.ylabel(\"Latitude\")\n",
        "plt.title('2018 Average Maximum Temperature over the Indian Subcontinent [Kathmandu (blue dot)]', loc='left')\n",
        "\n",
        "plt.savefig(\"Downloads/Ktmavg2018.png\")\n",
        "\n",
        "\n"
      ],
      "execution_count": null,
      "outputs": []
    },
    {
      "cell_type": "code",
      "metadata": {
        "id": "lxfCVRYHE3sk"
      },
      "source": [
        "## 6. From 1979-2018 at that location, create time series of the data. Plot time series. \n",
        "#Add regression line to show trend â€“ \n",
        "\n",
        "\n",
        "# Opening the all netCDF4 data set as one nc file\n",
        "temp=xr.open_mfdataset('Downloads/temperature/*.nc',chunks=None, concat_dim='_not_supplied',\n",
        "                      compat='no_conflicts', preprocess=None, engine=None, lock=None, \n",
        "                      data_vars='all', coords='different', combine='_old_auto', \n",
        "                      autoclose=None, parallel=False, join='outer')\n",
        "\n",
        "#selecting the local lat lon temp values\n",
        "temp_ktm= temp.tmax.sel(lat=27.7,lon=85.3, method='nearest')\n",
        "\n",
        "# Cleaning for NaN values\n",
        "temp_ktm = temp_ktm.dropna(dim='time')\n",
        "\n",
        "# create variables for regression\n",
        "tmax = temp_ktm.values\n",
        "x = np.arange(0, len(tmax), 1)\n",
        "\n",
        "# to perform linear regression \n",
        "slope, intercept, r_value, p_value, std_err = stats.linregress(x,tmax)\n",
        "print(\"slope: %f intercept: %f\" % (slope, intercept))\n",
        "print(\"R-squared value : %f\" % r_value**2)\n"
      ],
      "execution_count": null,
      "outputs": []
    },
    {
      "cell_type": "code",
      "metadata": {
        "id": "KLoO8EwOE6ov"
      },
      "source": [
        "# plotting the time series of the selected lat lon with regression line \n",
        "fig=plt.figure(figsize=(12,8))\n",
        "# temp_ktm.plot()\n",
        "\n",
        "\n",
        "plt.plot(x, tmax, label = 'original data')\n",
        "plt.plot(x, intercept + slope*x, 'r', label='fitted line')\n",
        "\n",
        "#plt.plot(x/365+1979, tmax, label = 'original data')\n",
        "#plt.plot(x/365+1979, intercept + slope*x, 'r', label='fitted line')\n",
        "\n",
        "plt.legend\n",
        "\n",
        "# plot x/y label\n",
        "plt.xticks (np.arange(1979, 2018, step=4))\n",
        "plt.xlabel(\"Year\")\n",
        "plt.ylabel(\"Daily Maximum Temperature [deg C]\")\n",
        "\n",
        "plt.title(\"Time Series of Average Maximum Temperature of Kathmandu 1979-2018 (lat=27.7, lon=85.3) \")\n",
        "plt.savefig(\"Downloads/timeseriesreg_Ktm79-2018\")\n",
        "\n"
      ],
      "execution_count": null,
      "outputs": []
    },
    {
      "cell_type": "code",
      "metadata": {
        "id": "pBPM4cM8E-gJ"
      },
      "source": [
        "#Calculate a linear least-squares regression for two sets of measurements.\n",
        "r=stats.linregress(temp_ktm, time_ktm) \n",
        "\n",
        "data = np.loadtxt(temp_ktm, ndmin=2)\n",
        "\n",
        "stats.linregress(temp_ktm, y=None)\n",
        "\n",
        "\n",
        "print(\"slope: %f\"(slope))\n",
        "\n",
        "\n",
        "time_ktm = temp.time.sel #TRY\n",
        "\n",
        "#trying out pandas dataframe to create data grame for each #TRY\n",
        "tmax0=pd.DataFrame(temp_ktm)\n",
        "time0=pd.DataFrame(temp_ktm.time)\n",
        "#Regression\n",
        "x = time0 #TRY \n",
        "y = tmax0\n"
      ],
      "execution_count": null,
      "outputs": []
    }
  ]
}